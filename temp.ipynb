{
 "cells": [
  {
   "cell_type": "code",
   "execution_count": 18,
   "metadata": {},
   "outputs": [],
   "source": [
    "\n"
   ]
  },
  {
   "cell_type": "code",
   "execution_count": 8,
   "metadata": {},
   "outputs": [],
   "source": [
    "image_folder = '/home/evg/Data/double/images'"
   ]
  },
  {
   "cell_type": "markdown",
   "metadata": {},
   "source": [
    "# Word list\n"
   ]
  },
  {
   "cell_type": "code",
   "execution_count": 9,
   "metadata": {},
   "outputs": [
    {
     "data": {
      "text/plain": [
       "73"
      ]
     },
     "execution_count": 9,
     "metadata": {},
     "output_type": "execute_result"
    }
   ],
   "source": [
    "word_list = [\n",
    "'ice cream', 'donut', 'cupcake', 'salad', 'cake', 'pancake', 'waffle', 'apple', \n",
    "'watermelon', 'cat', 'dog', 'elephant', 'fish', 'horse', 'tiger', 'mouse', 'rabbit',\n",
    "'bird', 'snake', 'frog', 'turtle', 'monkey', 'duck', 'donkey', 'ant', 'alligator',\n",
    "'bear', 'ball', 'hat', 'bag', 'sunglasses', 'umbrella', 'shoe', 'shirt', 'pants', 'dress', \n",
    "'car', 'window', 'door', 'cup', 'computer', 'sun', 'star', 'toothbrush', 'plate',\n",
    "'bowl', 'fork', 'knife', 'spoon', 'bottle', 'hand', 'leg', 'head', 'eye', 'nose', 'sink',\n",
    "'potato', 'carrot', 'pineapple', 'couch', 'chair', 'table', 'bed', 'lamp',\n",
    "'mirror', 'clock', 'key', 'book', 'pen', 'pencil', 'paper', 'blanket', 'pillow']\n",
    "len(word_list)"
   ]
  },
  {
   "cell_type": "markdown",
   "metadata": {},
   "source": [
    "# Create images"
   ]
  },
  {
   "cell_type": "code",
   "execution_count": 10,
   "metadata": {},
   "outputs": [
    {
     "name": "stdout",
     "output_type": "stream",
     "text": [
      "star 0\n"
     ]
    }
   ],
   "source": [
    "\n"
   ]
  },
  {
   "cell_type": "code",
   "execution_count": null,
   "metadata": {},
   "outputs": [],
   "source": []
  },
  {
   "cell_type": "markdown",
   "metadata": {},
   "source": [
    "# Create cards"
   ]
  },
  {
   "cell_type": "code",
   "execution_count": 11,
   "metadata": {},
   "outputs": [],
   "source": [
    "image_dict = {}\n",
    "\n",
    "for word in word_list:\n",
    "    path = os.path.join(image_folder, f\"{word}.jpg\")\n",
    "    if not os.path.exists(path):\n",
    "        raise ValueError(f\"Image for word {word} does not exist\")\n",
    "    img = cv2.imread(path)\n",
    "    if img is None:\n",
    "        raise ValueError(f\"Failed to read image at {path}\")\n",
    "    # Find non-white pixels\n",
    "    gray = cv2.cvtColor(img, cv2.COLOR_BGR2GRAY)\n",
    "    _, binary = cv2.threshold(gray, 250, 255, cv2.THRESH_BINARY_INV)\n",
    "    \n",
    "    # Find bounding box of non-white pixels\n",
    "    coords = cv2.findNonZero(binary)\n",
    "    x, y, w, h = cv2.boundingRect(coords)\n",
    "    \n",
    "    # Crop the image\n",
    "    img = img[y:y+h, x:x+w]\n",
    "    image_dict[word] = img"
   ]
  },
  {
   "cell_type": "code",
   "execution_count": null,
   "metadata": {},
   "outputs": [],
   "source": [
    "objects = set(['dog', 'cat'])\n",
    "N = 1200\n",
    "\n",
    "# Create a white background\n",
    "card = np.ones((N, N, 3), dtype=np.uint8) * 255\n",
    "\n",
    "# Draw circle border\n",
    "thickness = 4\n",
    "cv2.circle(card, (N//2, N//2), N//2-thickness, (0,0,0), thickness)\n",
    "\n",
    "added_objects = []\n",
    "\n",
    "def try_to_add_object(card, word):\n",
    "gray = cv2.cvtColor(card, cv2.COLOR_BGR2GRAY)\n",
    "_, mask = cv2.threshold(gray, 250, 255, cv2.THRESH_BINARY)\n",
    "cv2.distanceTransform(mask, cv2.DIST_L2, 5)\n",
    "\n",
    "scale = np.random.uniform(0.2, 0.6)\n",
    "angle = np.random.uniform(0, 360)\n",
    "\n",
    "img = rotate_and_scale(image_dict[word], angle, scale)\n",
    "\n",
    "\n",
    "\n",
    "\n",
    "\n",
    "\n",
    "\n"
   ]
  },
  {
   "cell_type": "code",
   "execution_count": null,
   "metadata": {},
   "outputs": [],
   "source": []
  }
 ],
 "metadata": {
  "kernelspec": {
   "display_name": ".venv",
   "language": "python",
   "name": "python3"
  },
  "language_info": {
   "codemirror_mode": {
    "name": "ipython",
    "version": 3
   },
   "file_extension": ".py",
   "mimetype": "text/x-python",
   "name": "python",
   "nbconvert_exporter": "python",
   "pygments_lexer": "ipython3",
   "version": "3.12.3"
  }
 },
 "nbformat": 4,
 "nbformat_minor": 2
}
